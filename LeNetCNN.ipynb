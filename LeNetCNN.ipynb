{
 "cells": [
  {
   "cell_type": "code",
   "execution_count": 4,
   "metadata": {},
   "outputs": [],
   "source": [
    "from keras.models import Sequential\n",
    "from keras.layers.convolutional import Conv2D\n",
    "from keras.layers.convolutional import MaxPooling2D\n",
    "from keras.layers.core import Activation\n",
    "from keras.layers.core import Flatten\n",
    "from keras.layers.core import Dense\n",
    "from keras import backend as K\n",
    "\n",
    "# import the necessary packages\n",
    "from sklearn.model_selection import train_test_split\n",
    "from keras.datasets import mnist\n",
    "from keras.optimizers import SGD\n",
    "from keras.utils import np_utils\n",
    "import numpy as np\n",
    "import cv2"
   ]
  },
  {
   "cell_type": "code",
   "execution_count": 5,
   "metadata": {},
   "outputs": [],
   "source": [
    "((trainData, trainLabels), (testData, testLabels)) = mnist.load_data()"
   ]
  },
  {
   "cell_type": "code",
   "execution_count": 7,
   "metadata": {},
   "outputs": [
    {
     "data": {
      "text/plain": [
       "((60000, 28, 28, 1), (10000, 28, 28, 1))"
      ]
     },
     "execution_count": 7,
     "metadata": {},
     "output_type": "execute_result"
    }
   ],
   "source": [
    "trainData = trainData.reshape((trainData.shape[0], 28, 28, 1))\n",
    "testData = testData.reshape((testData.shape[0], 28, 28, 1))\n",
    "trainData.shape, testData.shape"
   ]
  },
  {
   "cell_type": "code",
   "execution_count": 8,
   "metadata": {},
   "outputs": [],
   "source": [
    "# scale data to the range of [0, 1]\n",
    "trainData = trainData.astype(\"float32\") / 255.0\n",
    "testData = testData.astype(\"float32\") / 255.0"
   ]
  },
  {
   "cell_type": "code",
   "execution_count": 10,
   "metadata": {},
   "outputs": [],
   "source": [
    "# transform the training and testing labels into vectors in the\n",
    "# range [0, classes] -- this generates a vector for each label,\n",
    "# where the index of the label is set to `1` and all other entries\n",
    "# to `0`; in the case of MNIST, there are 10 class labels\n",
    "trainLabels = np_utils.to_categorical(trainLabels, 10)\n",
    "testLabels = np_utils.to_categorical(testLabels, 10)"
   ]
  },
  {
   "cell_type": "code",
   "execution_count": 14,
   "metadata": {},
   "outputs": [],
   "source": [
    "def build(numChannels, imgRows, imgCols, numClasses, activation=\"relu\", weightsPath=None):\n",
    "    model = Sequential()\n",
    "    inputShape = (imgRows, imgCols, numChannels)\n",
    "    \n",
    "    # define the first set of CONV => ACTIVATION => POOL layers\n",
    "    model.add(Conv2D(20, 5, padding=\"same\", input_shape=inputShape))\n",
    "    model.add(Activation(activation))\n",
    "    model.add(MaxPooling2D(pool_size=(2, 2), strides=(2, 2)))\n",
    "    \n",
    "    # define the second set of CONV => ACTIVATION => POOL layers\n",
    "    model.add(Conv2D(50, 5, padding=\"same\"))\n",
    "    model.add(Activation(activation))\n",
    "    model.add(MaxPooling2D(pool_size=(2, 2), strides=(2, 2)))\n",
    "    \n",
    "    # define the first FC => ACTIVATION layers\n",
    "    model.add(Flatten())\n",
    "    model.add(Dense(500))\n",
    "    model.add(Activation(activation))\n",
    "    # define the second FC layer\n",
    "    model.add(Dense(numClasses))\n",
    "    # lastly, define the soft-max classifier\n",
    "    model.add(Activation(\"softmax\"))\n",
    "    \n",
    "    if weightsPath is not None:\n",
    "        model.load_weights(weightsPath)\n",
    "        \n",
    "    return model"
   ]
  },
  {
   "cell_type": "code",
   "execution_count": 13,
   "metadata": {},
   "outputs": [
    {
     "name": "stdout",
     "output_type": "stream",
     "text": [
      "[INFO] compiling model...\n"
     ]
    }
   ],
   "source": [
    "# initialize the optimizer and model\n",
    "print(\"[INFO] compiling model...\")\n",
    "opt = SGD(lr=0.01)"
   ]
  },
  {
   "cell_type": "code",
   "execution_count": 15,
   "metadata": {},
   "outputs": [],
   "source": [
    "model = build(numChannels=1, imgRows=28, imgCols=28, numClasses=10, weightsPath=None)\n",
    "model.compile(loss=\"categorical_crossentropy\", optimizer=opt, metrics=[\"accuracy\"])"
   ]
  },
  {
   "cell_type": "code",
   "execution_count": 16,
   "metadata": {
    "scrolled": true
   },
   "outputs": [
    {
     "name": "stdout",
     "output_type": "stream",
     "text": [
      "[INFO] training...\n",
      "WARNING:tensorflow:From C:\\Users\\Sumi\\Anaconda3\\envs\\opencv-env\\lib\\site-packages\\tensorflow\\python\\ops\\math_ops.py:3066: to_int32 (from tensorflow.python.ops.math_ops) is deprecated and will be removed in a future version.\n",
      "Instructions for updating:\n",
      "Use tf.cast instead.\n",
      "Epoch 1/20\n",
      "60000/60000 [==============================] - 124s 2ms/step - loss: 1.0513 - acc: 0.7262\n",
      "Epoch 2/20\n",
      "60000/60000 [==============================] - 136s 2ms/step - loss: 0.2624 - acc: 0.9217\n",
      "Epoch 3/20\n",
      "60000/60000 [==============================] - 136s 2ms/step - loss: 0.1860 - acc: 0.9449\n",
      "Epoch 4/20\n",
      "60000/60000 [==============================] - 138s 2ms/step - loss: 0.1455 - acc: 0.9565\n",
      "Epoch 5/20\n",
      "60000/60000 [==============================] - 135s 2ms/step - loss: 0.1197 - acc: 0.9645\n",
      "Epoch 6/20\n",
      "60000/60000 [==============================] - 155s 3ms/step - loss: 0.1024 - acc: 0.9695\n",
      "Epoch 7/20\n",
      "60000/60000 [==============================] - 158s 3ms/step - loss: 0.0898 - acc: 0.9730\n",
      "Epoch 8/20\n",
      "60000/60000 [==============================] - 151s 3ms/step - loss: 0.0801 - acc: 0.9758\n",
      "Epoch 9/20\n",
      "60000/60000 [==============================] - 157s 3ms/step - loss: 0.0732 - acc: 0.9779\n",
      "Epoch 10/20\n",
      "60000/60000 [==============================] - 155s 3ms/step - loss: 0.0675 - acc: 0.9794\n",
      "Epoch 11/20\n",
      "60000/60000 [==============================] - 138s 2ms/step - loss: 0.0629 - acc: 0.9812\n",
      "Epoch 12/20\n",
      "60000/60000 [==============================] - 138s 2ms/step - loss: 0.0578 - acc: 0.9823\n",
      "Epoch 13/20\n",
      "60000/60000 [==============================] - 136s 2ms/step - loss: 0.0553 - acc: 0.9830\n",
      "Epoch 14/20\n",
      "60000/60000 [==============================] - 138s 2ms/step - loss: 0.0525 - acc: 0.9843\n",
      "Epoch 15/20\n",
      "60000/60000 [==============================] - 143s 2ms/step - loss: 0.0495 - acc: 0.9849\n",
      "Epoch 16/20\n",
      "60000/60000 [==============================] - 136s 2ms/step - loss: 0.0462 - acc: 0.9865\n",
      "Epoch 17/20\n",
      "60000/60000 [==============================] - 142s 2ms/step - loss: 0.0442 - acc: 0.9868\n",
      "Epoch 18/20\n",
      "60000/60000 [==============================] - 138s 2ms/step - loss: 0.0427 - acc: 0.9870\n",
      "Epoch 19/20\n",
      "60000/60000 [==============================] - 135s 2ms/step - loss: 0.0399 - acc: 0.9881\n",
      "Epoch 20/20\n",
      "60000/60000 [==============================] - 135s 2ms/step - loss: 0.0393 - acc: 0.9880\n"
     ]
    },
    {
     "data": {
      "text/plain": [
       "<keras.callbacks.History at 0x22d33e3da20>"
      ]
     },
     "execution_count": 16,
     "metadata": {},
     "output_type": "execute_result"
    }
   ],
   "source": [
    "print(\"[INFO] training...\")\n",
    "model.fit(trainData, trainLabels, batch_size=128, epochs=20, verbose=1)"
   ]
  },
  {
   "cell_type": "code",
   "execution_count": 17,
   "metadata": {},
   "outputs": [
    {
     "name": "stdout",
     "output_type": "stream",
     "text": [
      "[INFO] evaluating...\n",
      "10000/10000 [==============================] - 9s 899us/step\n",
      "[INFO] accuracy: 98.46%\n"
     ]
    }
   ],
   "source": [
    "# show the accuracy on the testing set\n",
    "print(\"[INFO] evaluating...\")\n",
    "(loss, accuracy) = model.evaluate(testData, testLabels, batch_size=128, verbose=1)\n",
    "print(\"[INFO] accuracy: {:.2f}%\".format(accuracy * 100))"
   ]
  },
  {
   "cell_type": "code",
   "execution_count": 19,
   "metadata": {},
   "outputs": [
    {
     "name": "stdout",
     "output_type": "stream",
     "text": [
      "[INFO] dumping weights to file...\n"
     ]
    }
   ],
   "source": [
    "print(\"[INFO] dumping weights to file...\")\n",
    "model.save_weights(\"lenet_weights.hdf5\")"
   ]
  },
  {
   "cell_type": "code",
   "execution_count": 2,
   "metadata": {},
   "outputs": [],
   "source": [
    "# randomly select a few testing digits\n",
    "for i in np.random.choice(np.arange(0, len(testLabels)), size=(10,)):\n",
    "    # classify the digit\n",
    "    probs = model.predict(testData[np.newaxis, i])\n",
    "    prediction = probs.argmax(axis=1)\n",
    "    \n",
    "    image = (testData[i] * 255).astype(\"uint8\")\n",
    "    image = cv2.merge([image] * 3)\n",
    "    image = cv2.resize(image, (96, 96), interpolation=cv2.INTER_LINEAR)\n",
    "    \n",
    "    # show the image and prediction\n",
    "    cv2.putText(image, str(prediction[0]), (5, 20), cv2.FONT_HERSHEY_SIMPLEX, 0.75, (0, 255, 0), 2)\n",
    "    print(\"[INFO] Predicted: {}, Actual: {}\".format(prediction[0], np.argmax(testLabels[i])))\n",
    "    cv2.imshow(\"Digit\", image)"
   ]
  },
  {
   "cell_type": "code",
   "execution_count": null,
   "metadata": {},
   "outputs": [],
   "source": []
  }
 ],
 "metadata": {
  "kernelspec": {
   "display_name": "Python 3",
   "language": "python",
   "name": "python3"
  },
  "language_info": {
   "codemirror_mode": {
    "name": "ipython",
    "version": 3
   },
   "file_extension": ".py",
   "mimetype": "text/x-python",
   "name": "python",
   "nbconvert_exporter": "python",
   "pygments_lexer": "ipython3",
   "version": "3.6.9"
  },
  "toc": {
   "base_numbering": 1,
   "nav_menu": {},
   "number_sections": true,
   "sideBar": true,
   "skip_h1_title": false,
   "title_cell": "Table of Contents",
   "title_sidebar": "Contents",
   "toc_cell": false,
   "toc_position": {},
   "toc_section_display": true,
   "toc_window_display": false
  }
 },
 "nbformat": 4,
 "nbformat_minor": 2
}
