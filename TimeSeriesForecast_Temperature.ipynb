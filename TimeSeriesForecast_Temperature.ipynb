{
 "cells": [
  {
   "cell_type": "code",
   "execution_count": 97,
   "metadata": {},
   "outputs": [],
   "source": [
    "import pandas as pd\n",
    "import numpy as np\n",
    "from matplotlib import pyplot as plt\n",
    "from statsmodels.tsa.arima_model import ARIMA\n",
    "from statsmodels.tsa.arima_model import ARIMAResults \n",
    "from sklearn.metrics import mean_squared_error as mse"
   ]
  },
  {
   "cell_type": "code",
   "execution_count": 76,
   "metadata": {},
   "outputs": [
    {
     "data": {
      "text/html": [
       "<div>\n",
       "<style scoped>\n",
       "    .dataframe tbody tr th:only-of-type {\n",
       "        vertical-align: middle;\n",
       "    }\n",
       "\n",
       "    .dataframe tbody tr th {\n",
       "        vertical-align: top;\n",
       "    }\n",
       "\n",
       "    .dataframe thead th {\n",
       "        text-align: right;\n",
       "    }\n",
       "</style>\n",
       "<table border=\"1\" class=\"dataframe\">\n",
       "  <thead>\n",
       "    <tr style=\"text-align: right;\">\n",
       "      <th></th>\n",
       "      <th>Temp</th>\n",
       "    </tr>\n",
       "    <tr>\n",
       "      <th>Date</th>\n",
       "      <th></th>\n",
       "    </tr>\n",
       "  </thead>\n",
       "  <tbody>\n",
       "    <tr>\n",
       "      <td>1981-01-01</td>\n",
       "      <td>20.7</td>\n",
       "    </tr>\n",
       "    <tr>\n",
       "      <td>1981-01-02</td>\n",
       "      <td>17.9</td>\n",
       "    </tr>\n",
       "    <tr>\n",
       "      <td>1981-01-03</td>\n",
       "      <td>18.8</td>\n",
       "    </tr>\n",
       "    <tr>\n",
       "      <td>1981-01-04</td>\n",
       "      <td>14.6</td>\n",
       "    </tr>\n",
       "    <tr>\n",
       "      <td>1981-01-05</td>\n",
       "      <td>15.8</td>\n",
       "    </tr>\n",
       "  </tbody>\n",
       "</table>\n",
       "</div>"
      ],
      "text/plain": [
       "            Temp\n",
       "Date            \n",
       "1981-01-01  20.7\n",
       "1981-01-02  17.9\n",
       "1981-01-03  18.8\n",
       "1981-01-04  14.6\n",
       "1981-01-05  15.8"
      ]
     },
     "execution_count": 76,
     "metadata": {},
     "output_type": "execute_result"
    }
   ],
   "source": [
    "# This dataset describes the minimum daily temperatures over 10 years (1981-1990) in the city of Melbourne, Australia.\n",
    "series = pd.read_csv('daily-min-temperatures.csv', header = 0, index_col = 0)\n",
    "series.head()"
   ]
  },
  {
   "cell_type": "code",
   "execution_count": 77,
   "metadata": {},
   "outputs": [
    {
     "data": {
      "image/png": "[encoded data removed]",
      "text/plain": [
       "<Figure size 432x288 with 1 Axes>"
      ]
     },
     "metadata": {
      "needs_background": "light"
     },
     "output_type": "display_data"
    }
   ],
   "source": [
    "series.plot()\n",
    "plt.show()"
   ]
  },
  {
   "cell_type": "code",
   "execution_count": 85,
   "metadata": {},
   "outputs": [],
   "source": [
    "# making the data stationary\n",
    "def difference(dataset, interval = 1):\n",
    "    diff = []\n",
    "    for i in range(interval,len(dataset)):\n",
    "        value = dataset[i] - dataset[i - interval]\n",
    "        diff.append(value)       \n",
    "    return np.array(diff)\n",
    "\n",
    "# inverting above operation\n",
    "def inverse_diff(history, ypred, interval = 1):\n",
    "    return ypred + history[-interval]\n"
   ]
  },
  {
   "cell_type": "code",
   "execution_count": 86,
   "metadata": {},
   "outputs": [
    {
     "name": "stdout",
     "output_type": "stream",
     "text": [
      "Dataset 3643, Validation 7\n"
     ]
    }
   ],
   "source": [
    "# Splitting data\n",
    "split_point = len(series) - 7\n",
    "dataset, validation = series[0:split_point], series[split_point:]\n",
    "print('Dataset %d, Validation %d' % (len(dataset), len(validation)))\n",
    "\n",
    "# saving the files\n",
    "dataset.to_csv('dataset.csv', index=False)\n",
    "validation.to_csv('validation.csv', index=False)"
   ]
  },
  {
   "cell_type": "code",
   "execution_count": 87,
   "metadata": {},
   "outputs": [],
   "source": [
    "# loading entire dataset\n",
    "series = pd.read_csv('daily-min-temperatures.csv', header = 0, index_col = 0)\n",
    "\n",
    "# seasonal difference\n",
    "X = series.values\n",
    "days_in_year = 365\n",
    "differenced = difference(X, days_in_year)"
   ]
  },
  {
   "cell_type": "code",
   "execution_count": 91,
   "metadata": {},
   "outputs": [
    {
     "name": "stdout",
     "output_type": "stream",
     "text": [
      "                              ARMA Model Results                              \n",
      "==============================================================================\n",
      "Dep. Variable:                      y   No. Observations:                 3285\n",
      "Model:                     ARMA(7, 1)   Log Likelihood               -8689.286\n",
      "Method:                       css-mle   S.D. of innovations              3.408\n",
      "Date:                Tue, 31 Mar 2020   AIC                          17398.571\n",
      "Time:                        00:57:02   BIC                          17459.542\n",
      "Sample:                             0   HQIC                         17420.401\n",
      "                                                                              \n",
      "==============================================================================\n",
      "                 coef    std err          z      P>|z|      [0.025      0.975]\n",
      "------------------------------------------------------------------------------\n",
      "const          0.0149      0.132      0.113      0.910      -0.244       0.274\n",
      "ar.L1.y        1.1436      0.287      3.983      0.000       0.581       1.706\n",
      "ar.L2.y       -0.4355      0.154     -2.835      0.005      -0.737      -0.134\n",
      "ar.L3.y        0.0962      0.042      2.289      0.022       0.014       0.178\n",
      "ar.L4.y        0.0126      0.029      0.436      0.663      -0.044       0.069\n",
      "ar.L5.y       -0.0103      0.029     -0.352      0.725      -0.068       0.047\n",
      "ar.L6.y        0.0125      0.027      0.468      0.640      -0.040       0.065\n",
      "ar.L7.y        0.0086      0.024      0.357      0.721      -0.039       0.056\n",
      "ma.L1.y       -0.6165      0.287     -2.150      0.032      -1.178      -0.055\n",
      "                                    Roots                                    \n",
      "=============================================================================\n",
      "                  Real          Imaginary           Modulus         Frequency\n",
      "-----------------------------------------------------------------------------\n",
      "AR.1            1.2231           -0.0000j            1.2231           -0.0000\n",
      "AR.2            1.2548           -1.0688j            1.6483           -0.1123\n",
      "AR.3            1.2548           +1.0688j            1.6483            0.1123\n",
      "AR.4            0.0283           -2.0213j            2.0215           -0.2478\n",
      "AR.5            0.0283           +2.0213j            2.0215            0.2478\n",
      "AR.6           -2.6185           -1.3062j            2.9262           -0.4264\n",
      "AR.7           -2.6185           +1.3062j            2.9262            0.4264\n",
      "MA.1            1.6219           +0.0000j            1.6219            0.0000\n",
      "-----------------------------------------------------------------------------\n"
     ]
    }
   ],
   "source": [
    "# fit model\n",
    "model = ARIMA(differenced, order = (7,0,1))\n",
    "model_fit = model.fit(disp = 0)\n",
    "print(model_fit.summary())"
   ]
  },
  {
   "cell_type": "code",
   "execution_count": 95,
   "metadata": {},
   "outputs": [],
   "source": [
    "# Method 1 - using forecast\n",
    "# one step Out-of-Sample Forecast\n",
    "forecast = model_fit.forecast()[0]"
   ]
  },
  {
   "cell_type": "code",
   "execution_count": 98,
   "metadata": {},
   "outputs": [],
   "source": [
    "# Method 2 - using predict\n",
    "# forecast using ARIMAResults \n",
    "start_index = len(differenced)\n",
    "end_index = len(differenced)\n",
    "forecast = model_fit.predict (start = start_index, end = end_index)"
   ]
  },
  {
   "cell_type": "code",
   "execution_count": 100,
   "metadata": {},
   "outputs": [
    {
     "data": {
      "text/plain": [
       "array([14.87253587])"
      ]
     },
     "execution_count": 100,
     "metadata": {},
     "output_type": "execute_result"
    }
   ],
   "source": [
    "forecast = inverse_diff(X, forecast, days_in_year)\n",
    "forecast"
   ]
  },
  {
   "cell_type": "code",
   "execution_count": 101,
   "metadata": {},
   "outputs": [],
   "source": [
    "# Method 1 - using forecast\n",
    "# multi Step Out-of-Sample Forecast\n",
    "forecast = model_fit.forecast(steps=7)[0]"
   ]
  },
  {
   "cell_type": "code",
   "execution_count": 102,
   "metadata": {},
   "outputs": [
    {
     "data": {
      "text/plain": [
       "array([0.07253587, 0.0959086 , 0.12357062, 0.15440658, 0.17522802,\n",
       "       0.16297693, 0.13153942])"
      ]
     },
     "execution_count": 102,
     "metadata": {},
     "output_type": "execute_result"
    }
   ],
   "source": [
    "forecast"
   ]
  },
  {
   "cell_type": "code",
   "execution_count": 104,
   "metadata": {},
   "outputs": [
    {
     "data": {
      "text/plain": [
       "array([0.07253587, 0.0959086 , 0.12357062, 0.15440658, 0.17522802,\n",
       "       0.16297693, 0.13153942])"
      ]
     },
     "execution_count": 104,
     "metadata": {},
     "output_type": "execute_result"
    }
   ],
   "source": [
    "# Method 2 - using Predict\n",
    "start_index = len(differenced)\n",
    "end_index = start_index + 6\n",
    "forecast = model_fit.predict (start = start_index, end = end_index)\n",
    "forecast"
   ]
  },
  {
   "cell_type": "code",
   "execution_count": 105,
   "metadata": {},
   "outputs": [
    {
     "name": "stdout",
     "output_type": "stream",
     "text": [
      "Day 1: 14.872536\n",
      "Day 2: 13.395909\n",
      "Day 3: 15.723571\n",
      "Day 4: 14.654407\n",
      "Day 5: 14.475228\n",
      "Day 6: 15.462977\n",
      "Day 7: 16.531539\n"
     ]
    }
   ],
   "source": [
    "# inverting the differenced forecast\n",
    "history = [x for x in X]\n",
    "day = 1\n",
    "for yhat in forecast:\n",
    "    inv = inverse_diff(history, yhat, days_in_year)\n",
    "    print('Day %d: %f' % (day, inv))\n",
    "    history.append(inv)\n",
    "    day += 1"
   ]
  },
  {
   "cell_type": "code",
   "execution_count": null,
   "metadata": {},
   "outputs": [],
   "source": []
  }
 ],
 "metadata": {
  "kernelspec": {
   "display_name": "Python 3",
   "language": "python",
   "name": "python3"
  },
  "language_info": {
   "codemirror_mode": {
    "name": "ipython",
    "version": 3
   },
   "file_extension": ".py",
   "mimetype": "text/x-python",
   "name": "python",
   "nbconvert_exporter": "python",
   "pygments_lexer": "ipython3",
   "version": "3.6.9"
  },
  "toc": {
   "base_numbering": 1,
   "nav_menu": {},
   "number_sections": true,
   "sideBar": true,
   "skip_h1_title": false,
   "title_cell": "Table of Contents",
   "title_sidebar": "Contents",
   "toc_cell": false,
   "toc_position": {},
   "toc_section_display": true,
   "toc_window_display": false
  }
 },
 "nbformat": 4,
 "nbformat_minor": 2
}
