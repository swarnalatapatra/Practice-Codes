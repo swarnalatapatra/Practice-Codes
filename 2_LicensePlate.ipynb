{
 "cells": [
  {
   "cell_type": "code",
   "execution_count": 1,
   "metadata": {},
   "outputs": [],
   "source": [
    "# import the necessary packages\n",
    "from collections import namedtuple\n",
    "from skimage.filters import threshold_local\n",
    "from skimage import segmentation\n",
    "from skimage import measure\n",
    "from imutils import perspective\n",
    "import numpy as np\n",
    "import imutils\n",
    "import cv2"
   ]
  },
  {
   "cell_type": "code",
   "execution_count": 2,
   "metadata": {},
   "outputs": [],
   "source": [
    "# to store information regarding the detected license plate.\n",
    "LicensePlate = namedtuple(\"LicensePlateRegion\", [\"success\", \"plate\", \"thresh\", \"candidates\"])"
   ]
  },
  {
   "cell_type": "code",
   "execution_count": null,
   "metadata": {},
   "outputs": [],
   "source": [
    "def detectPlates():\n",
    "    # this is the code from detectPlate.ipynb\n",
    "    return\n",
    "\n",
    "def detectCharacterCandidates(region):\n",
    "    plate = perspective.four_point_transform(image, region)\n",
    "    cv2.imshow(\"Perspective transform\", imutils.resize(plate, width=400))\n",
    "    V = cv2.split(cv2.cvtColor(plate, cv2.COLOR_BGR2HSV))[2] # extracting value channel from HSV\n",
    "    T = threshold_local(V, 29, offset=15, method=\"gaussian\") # extracting dark regions from light background or vv.\n",
    "    thresh = (V > T).astype(\"uint8\") * 255\n",
    "    thresh = cv2.bitwise_not(thresh)\n",
    "\n",
    "    # resize the license plate region to a canonical size\n",
    "    plate = imutils.resize(plate, width=400)\n",
    "    thresh = imutils.resize(thresh, width=400)\n",
    "    cv2.imshow(\"Thresh\", thresh)\n",
    "    \n",
    "    # CCA - connected component analysis\n",
    "    labels = measure.label(thresh, neighbors=8, background=0)\n",
    "    charCandidates = np.zeros(thresh.shape, dtype=\"uint8\")\n",
    "    \n",
    "    for label in np.unique(labels):\n",
    "        if label == 0: # background of license plate, hence ignore\n",
    "            continue\n",
    "            \n",
    "        # By performing this masking, we are revealing only pixels that are part of the current connected component. \n",
    "        labelMask = np.zeros(thresh.shape, dtype=\"uint8\")\n",
    "        cnts = cv2.findContours(labelMask, cv2.RETR_EXTERNAL, cv2.CHAIN_APPROX_SIMPLE)\n",
    "        cnts = cnts[0] if imutils.is_cv2() else cnts[1]\n",
    "        \n",
    "        # ensure at least one contour was found in the mask\n",
    "        if len(cnts) > 0:\n",
    "            # grab the largest contour which corresponds to the component in the mask, then\n",
    "            # grab the bounding box for the contour\n",
    "            c = max(cnts, key=cv2.contourArea)\n",
    "            (boxX, boxY, boxW, boxH) = cv2.boundingRect(c)\n",
    "\n",
    "            # compute the aspect ratio, solidity, and height ratio for the component\n",
    "            aspectRatio = boxW / float(boxH) # expected to be ideally taller rather than wide, at max a square\n",
    "            solidity = cv2.contourArea(c) / float(boxW * boxH) # high value to avoid “noise”, such as dirt, bolts, etc\n",
    "            heightRatio = boxH / float(plate.shape[0]) \n",
    "            # Large values of  heightRatio  indicate that the height of the (potential) character is similar \n",
    "            # to the license plate itself (and thus a likely character).\n",
    "\n",
    "            # determine if the aspect ratio, solidity, and height of the contour pass\n",
    "            # the rules tests\n",
    "            keepAspectRatio = aspectRatio < 1.0\n",
    "            keepSolidity = solidity > 0.15\n",
    "            keepHeight = heightRatio > 0.4 and heightRatio < 0.95\n",
    "\n",
    "            # check to see if the component passes all the tests\n",
    "            if keepAspectRatio and keepSolidity and keepHeight:\n",
    "                # compute the convex hull of the contour and draw it on the character\n",
    "                # candidates mask\n",
    "                hull = cv2.convexHull(c)\n",
    "                cv2.drawContours(charCandidates, [hull], -1, 255, -1)\n",
    "                \n",
    "    # any components that are “touching” the borders of the image are removed\n",
    "    charCandidates = segmentation.clear_border(charCandidates)\n",
    "            \n",
    "    return LicensePlate(success=True, plate=plate, thresh=thresh, candidates=charCandidates)\n",
    "\n",
    "def detect():\n",
    "    lpregions = detectPlates()\n",
    "    \n",
    "    for lpr in lpregions:\n",
    "        lp = detectCharacterCandidates(lpr)\n",
    "        if lp.success:\n",
    "            yeild(lp,lpr)"
   ]
  },
  {
   "cell_type": "code",
   "execution_count": 4,
   "metadata": {},
   "outputs": [
    {
     "data": {
      "text/plain": [
       "(376, 603)"
      ]
     },
     "execution_count": 4,
     "metadata": {},
     "output_type": "execute_result"
    }
   ],
   "source": [
    "from skimage.io import imread\n",
    "car_image = imread(\"./vehicle.png\", as_gray=True)\n",
    "car_image.shape"
   ]
  },
  {
   "cell_type": "code",
   "execution_count": null,
   "metadata": {},
   "outputs": [],
   "source": []
  }
 ],
 "metadata": {
  "kernelspec": {
   "display_name": "Python 3",
   "language": "python",
   "name": "python3"
  },
  "language_info": {
   "codemirror_mode": {
    "name": "ipython",
    "version": 3
   },
   "file_extension": ".py",
   "mimetype": "text/x-python",
   "name": "python",
   "nbconvert_exporter": "python",
   "pygments_lexer": "ipython3",
   "version": "3.6.9"
  },
  "toc": {
   "base_numbering": 1,
   "nav_menu": {},
   "number_sections": true,
   "sideBar": true,
   "skip_h1_title": false,
   "title_cell": "Table of Contents",
   "title_sidebar": "Contents",
   "toc_cell": false,
   "toc_position": {},
   "toc_section_display": true,
   "toc_window_display": false
  }
 },
 "nbformat": 4,
 "nbformat_minor": 2
}
