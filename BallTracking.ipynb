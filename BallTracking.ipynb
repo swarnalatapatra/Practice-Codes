{
 "cells": [
  {
   "cell_type": "code",
   "execution_count": 2,
   "metadata": {},
   "outputs": [],
   "source": [
    "# A smaller queue will lead to a shorter tail whereas a larger queue will create a longer tail\n",
    "# (since more points are being tracked)\n",
    "\n",
    "from collections import deque\n",
    "from imutils.video import VideoStream\n",
    "import numpy as np\n",
    "import cv2\n",
    "import imutils\n",
    "import time\n",
    "import argparse"
   ]
  },
  {
   "cell_type": "code",
   "execution_count": 3,
   "metadata": {},
   "outputs": [],
   "source": [
    "buffer = 64\n",
    "redlow = (150, 22, 6)\n",
    "redup = (255,64,255)\n",
    "pts = deque(maxlen = buffer)\n",
    "\n",
    "# if video available\n",
    "# vs = VideoStream(src=0).start()\n",
    "\n",
    "# if no video path, capture from webcam\n",
    "cap = cv2.VideoCapture(0)\n",
    "if (cap.isOpened()== False): \n",
    "    print(\"Error opening video stream or file\")\n",
    "\n",
    "\n",
    "# time.sleep(2.0)"
   ]
  },
  {
   "cell_type": "code",
   "execution_count": 4,
   "metadata": {},
   "outputs": [],
   "source": [
    "while cap.isOpened():\n",
    "    ret , frame = cap.read()\n",
    "    if ret == True:\n",
    "#         cv2.imshow('Frame',frame) # display frame\n",
    "        \n",
    "        frame = imutils.resize(frame, width=600)\n",
    "        blurr = cv2.GaussianBlur(frame, (11,11), 0)\n",
    "        hsv = cv2.cvtColor(blurr, cv2.COLOR_BGR2HSV)\n",
    "\n",
    "        mask = cv2.inRange(hsv, redlow, redup)\n",
    "        mask = cv2.erode(mask, None, iterations = 2)\n",
    "        mask = cv2.dilate(mask, None, iterations = 2)\n",
    "        # find contours in the mask\n",
    "        cnts = cv2.findContours(mask.copy(), cv2.RETR_EXTERNAL, cv2.CHAIN_APPROX_SIMPLE)\n",
    "        cnts = cnts[0]\n",
    "#         cnts = imutils.grab_contours(cnts)\n",
    "        # initialize center of the object\n",
    "        center = None\n",
    "        \n",
    "        if len(cnts) > 0: # proceed only ifatleast 1 contour is found\n",
    "            # largest contour in the mask\n",
    "            c = max(cnts, key = cv2.contourArea)\n",
    "            # minimum enclosing circle\n",
    "            ((x,y), radius) = cv2.minEnclosingCircle(c)\n",
    "            # centroid\n",
    "            M = cv2.moments(c)\n",
    "            center = (int(M[\"m10\"] / M[\"m00\"]), int(M[\"m01\"] / M[\"m00\"]))\n",
    "            \n",
    "            if radius > 10:\n",
    "                cv2.circle(frame, (int(x), int(y)), int(radius), (0, 255, 255), 2)\n",
    "                cv2.circle(frame, center, 5, (0,0,255), -1)\n",
    "                \n",
    "        pts.appendleft(center)\n",
    "        \n",
    "        for i in range(1, len(pts)):\n",
    "            # if either of the tracked points are None, ignore them\n",
    "            if pts[i-1] is None or pts[i] is None:\n",
    "                continue\n",
    "                \n",
    "            # else compute thickness of line and draw connecting lines\n",
    "            thickness = int(np.sqrt(buffer/ float(i+1)) * 1.5)\n",
    "            cv2.line(frame, pts[i-1], pts[i], (0,0,255), thickness)\n",
    "            \n",
    "        cv2.imshow('Frame',frame) # display frame\n",
    "        \n",
    "        if cv2.waitKey(25) & 0xFF == ord('q'):\n",
    "            break\n",
    "            \n",
    "    else:\n",
    "        break\n",
    "    \n",
    "cap.release()\n"
   ]
  },
  {
   "cell_type": "code",
   "execution_count": null,
   "metadata": {},
   "outputs": [],
   "source": []
  },
  {
   "cell_type": "code",
   "execution_count": null,
   "metadata": {},
   "outputs": [],
   "source": []
  },
  {
   "cell_type": "code",
   "execution_count": null,
   "metadata": {},
   "outputs": [],
   "source": []
  },
  {
   "cell_type": "code",
   "execution_count": null,
   "metadata": {},
   "outputs": [],
   "source": []
  }
 ],
 "metadata": {
  "kernelspec": {
   "display_name": "Python 3",
   "language": "python",
   "name": "python3"
  },
  "language_info": {
   "codemirror_mode": {
    "name": "ipython",
    "version": 3
   },
   "file_extension": ".py",
   "mimetype": "text/x-python",
   "name": "python",
   "nbconvert_exporter": "python",
   "pygments_lexer": "ipython3",
   "version": "3.6.9"
  },
  "toc": {
   "base_numbering": 1,
   "nav_menu": {},
   "number_sections": true,
   "sideBar": true,
   "skip_h1_title": false,
   "title_cell": "Table of Contents",
   "title_sidebar": "Contents",
   "toc_cell": false,
   "toc_position": {},
   "toc_section_display": true,
   "toc_window_display": false
  }
 },
 "nbformat": 4,
 "nbformat_minor": 2
}
