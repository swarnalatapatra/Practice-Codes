{
 "cells": [
  {
   "cell_type": "code",
   "execution_count": 4,
   "metadata": {},
   "outputs": [],
   "source": [
    "from tensorflow.keras.layers import BatchNormalization\n",
    "from tensorflow.keras.layers import Conv2D\n",
    "from tensorflow.keras.layers import Conv2DTranspose\n",
    "from tensorflow.keras.layers import LeakyReLU\n",
    "from tensorflow.keras.layers import Activation\n",
    "from tensorflow.keras.layers import Flatten\n",
    "from tensorflow.keras.layers import Dense\n",
    "from tensorflow.keras.layers import Reshape\n",
    "from tensorflow.keras.layers import Input\n",
    "from tensorflow.keras.models import Model\n",
    "from tensorflow.keras import backend as K\n",
    "import numpy as np\n",
    "import pandas as pd\n",
    "\n",
    "import matplotlib\n",
    "matplotlib.use(\"Agg\")\n",
    "\n",
    "from tensorflow.keras.optimizers import Adam\n",
    "from tensorflow.keras.datasets import mnist\n",
    "import matplotlib.pyplot as plt\n",
    "import argparse\n",
    "import cv2"
   ]
  },
  {
   "cell_type": "code",
   "execution_count": 27,
   "metadata": {},
   "outputs": [],
   "source": [
    "class ConvAutoencoder:\n",
    "    @staticmethod\n",
    "    def build(w, h, d, filters=(32,64), latentDim=16):\n",
    "        inputShape = (h,w,d)\n",
    "        chanDim = -1\n",
    "        \n",
    "        inputs = Input(shape = inputShape)\n",
    "        x = inputs\n",
    "        \n",
    "        for f in filters:\n",
    "            x = Conv2D(f, (3,3), strides=2, padding='same')(x)\n",
    "            x = LeakyReLU(alpha=0.2)(x)\n",
    "            x = BatchNormalization(axis=chanDim)(x)\n",
    "            \n",
    "        volumeSize = K.int_shape(x) # (None, h, w, d)\n",
    "\n",
    "        x = Flatten()(x)\n",
    "        latent = Dense(latentDim, name='encoded')(x)\n",
    "        x = Dense(np.prod(volumeSize[1:]))(latent)\n",
    "        x = Reshape((volumeSize[1], volumeSize[2], volumeSize[3]))(x)\n",
    "        \n",
    "        for f in filters[::-1]:\n",
    "            x = Conv2DTranspose(f, (3, 3), strides=2, padding=\"same\")(x)\n",
    "            x = LeakyReLU(alpha=0.2)(x)\n",
    "            x = BatchNormalization(axis=chanDim)(x)\n",
    "       \n",
    "        x = Conv2DTranspose(d, (3, 3), padding=\"same\")(x)\n",
    "        outputs = Activation(\"sigmoid\", name=\"decoded\")(x)\n",
    "        \n",
    "        autoencoder = Model(inputs, outputs, name=\"autoencoder\")\n",
    "        \n",
    "        return autoencoder\n",
    "            "
   ]
  },
  {
   "cell_type": "code",
   "execution_count": 28,
   "metadata": {},
   "outputs": [],
   "source": [
    "# comparing original ground truth gt with the reconstructed image\n",
    "\n",
    "def visualize_predictions(decoded, gt, samples = 10):\n",
    "    outputs = None\n",
    "    for i in range(samples):\n",
    "        orig = (gt[i] * 255).astype(\"uint8\")\n",
    "        recon = (decoded[i] * 255).astype(\"uint8\")\n",
    "        \n",
    "        output = np.hstack([orig, recon])\n",
    "        \n",
    "        if outputs is None:\n",
    "            outputs = output\n",
    "        else:\n",
    "            outputs = np.vstack([outputs, output])\n",
    "            \n",
    "    return outputs\n",
    "        "
   ]
  },
  {
   "cell_type": "code",
   "execution_count": 29,
   "metadata": {},
   "outputs": [
    {
     "name": "stdout",
     "output_type": "stream",
     "text": [
      "[INFO] loading MNIST dataset...\n"
     ]
    }
   ],
   "source": [
    "epochs = 20\n",
    "lrate = 1e-3\n",
    "batch_size = 32\n",
    "\n",
    "print(\"[INFO] loading MNIST dataset...\")\n",
    "((trainX, _), (testX, _)) = mnist.load_data()\n",
    "\n",
    "# add a channel dimension to every image in the dataset\n",
    "trainX = np.expand_dims(trainX, axis=-1)\n",
    "testX = np.expand_dims(testX, axis=-1)\n",
    "\n",
    "# scale the pixel intensities to the range [0, 1]\n",
    "trainX = trainX.astype(\"float32\") / 255.0\n",
    "testX = testX.astype(\"float32\") / 255.0"
   ]
  },
  {
   "cell_type": "code",
   "execution_count": 30,
   "metadata": {},
   "outputs": [
    {
     "data": {
      "text/plain": [
       "((60000, 28, 28, 1), (10000, 28, 28, 1))"
      ]
     },
     "execution_count": 30,
     "metadata": {},
     "output_type": "execute_result"
    }
   ],
   "source": [
    "trainX.shape, testX.shape"
   ]
  },
  {
   "cell_type": "code",
   "execution_count": 31,
   "metadata": {
    "scrolled": true
   },
   "outputs": [
    {
     "name": "stdout",
     "output_type": "stream",
     "text": [
      "[INFO] building autoencoder...\n",
      "WARNING:tensorflow:From C:\\Users\\Sumi\\Anaconda3\\envs\\opencv-env\\lib\\site-packages\\tensorflow\\python\\keras\\utils\\losses_utils.py:170: to_float (from tensorflow.python.ops.math_ops) is deprecated and will be removed in a future version.\n",
      "Instructions for updating:\n",
      "Use tf.cast instead.\n",
      "_________________________________________________________________\n",
      "Layer (type)                 Output Shape              Param #   \n",
      "=================================================================\n",
      "input_5 (InputLayer)         (None, 28, 28, 1)         0         \n",
      "_________________________________________________________________\n",
      "conv2d_4 (Conv2D)            (None, 14, 14, 32)        320       \n",
      "_________________________________________________________________\n",
      "leaky_re_lu_2 (LeakyReLU)    (None, 14, 14, 32)        0         \n",
      "_________________________________________________________________\n",
      "batch_normalization_v1_2 (Ba (None, 14, 14, 32)        128       \n",
      "_________________________________________________________________\n",
      "conv2d_5 (Conv2D)            (None, 7, 7, 64)          18496     \n",
      "_________________________________________________________________\n",
      "leaky_re_lu_3 (LeakyReLU)    (None, 7, 7, 64)          0         \n",
      "_________________________________________________________________\n",
      "batch_normalization_v1_3 (Ba (None, 7, 7, 64)          256       \n",
      "_________________________________________________________________\n",
      "flatten_1 (Flatten)          (None, 3136)              0         \n",
      "_________________________________________________________________\n",
      "encoded (Dense)              (None, 16)                50192     \n",
      "_________________________________________________________________\n",
      "dense (Dense)                (None, 3136)              53312     \n",
      "_________________________________________________________________\n",
      "reshape (Reshape)            (None, 7, 7, 64)          0         \n",
      "_________________________________________________________________\n",
      "conv2d_transpose (Conv2DTran (None, 14, 14, 64)        36928     \n",
      "_________________________________________________________________\n",
      "leaky_re_lu_4 (LeakyReLU)    (None, 14, 14, 64)        0         \n",
      "_________________________________________________________________\n",
      "batch_normalization_v1_4 (Ba (None, 14, 14, 64)        256       \n",
      "_________________________________________________________________\n",
      "conv2d_transpose_1 (Conv2DTr (None, 28, 28, 32)        18464     \n",
      "_________________________________________________________________\n",
      "leaky_re_lu_5 (LeakyReLU)    (None, 28, 28, 32)        0         \n",
      "_________________________________________________________________\n",
      "batch_normalization_v1_5 (Ba (None, 28, 28, 32)        128       \n",
      "_________________________________________________________________\n",
      "conv2d_transpose_2 (Conv2DTr (None, 28, 28, 1)         289       \n",
      "_________________________________________________________________\n",
      "decoded (Activation)         (None, 28, 28, 1)         0         \n",
      "=================================================================\n",
      "Total params: 178,769\n",
      "Trainable params: 178,385\n",
      "Non-trainable params: 384\n",
      "_________________________________________________________________\n"
     ]
    }
   ],
   "source": [
    "# construct our convolutional autoencoder\n",
    "print(\"[INFO] building autoencoder...\")\n",
    "autoencoder = ConvAutoencoder.build(28, 28, 1)\n",
    "opt = Adam(lr=lrate, decay=lrate / epochs)\n",
    "autoencoder.compile(loss=\"mse\", optimizer=opt)\n",
    "autoencoder.summary()"
   ]
  },
  {
   "cell_type": "code",
   "execution_count": 32,
   "metadata": {
    "scrolled": true
   },
   "outputs": [
    {
     "name": "stdout",
     "output_type": "stream",
     "text": [
      "Train on 60000 samples, validate on 10000 samples\n",
      "WARNING:tensorflow:From C:\\Users\\Sumi\\Anaconda3\\envs\\opencv-env\\lib\\site-packages\\tensorflow\\python\\ops\\math_ops.py:3066: to_int32 (from tensorflow.python.ops.math_ops) is deprecated and will be removed in a future version.\n",
      "Instructions for updating:\n",
      "Use tf.cast instead.\n",
      "Epoch 1/20\n",
      "60000/60000 [==============================] - 650s 11ms/sample - loss: 0.0186 - val_loss: 0.0110\n",
      "Epoch 2/20\n",
      "60000/60000 [==============================] - 630s 11ms/sample - loss: 0.0103 - val_loss: 0.0100\n",
      "Epoch 3/20\n",
      "60000/60000 [==============================] - 501s 8ms/sample - loss: 0.0092 - val_loss: 0.0085\n",
      "Epoch 4/20\n",
      "60000/60000 [==============================] - 502s 8ms/sample - loss: 0.0086 - val_loss: 0.0081\n",
      "Epoch 5/20\n",
      "60000/60000 [==============================] - 502s 8ms/sample - loss: 0.0083 - val_loss: 0.0080\n",
      "Epoch 6/20\n",
      "60000/60000 [==============================] - 557s 9ms/sample - loss: 0.0079 - val_loss: 0.0077\n",
      "Epoch 7/20\n",
      "60000/60000 [==============================] - 533s 9ms/sample - loss: 0.0077 - val_loss: 0.0075\n",
      "Epoch 8/20\n",
      "60000/60000 [==============================] - 476s 8ms/sample - loss: 0.0075 - val_loss: 0.0076\n",
      "Epoch 9/20\n",
      "60000/60000 [==============================] - 471s 8ms/sample - loss: 0.0074 - val_loss: 0.0075\n",
      "Epoch 10/20\n",
      "60000/60000 [==============================] - 494s 8ms/sample - loss: 0.0072 - val_loss: 0.0073\n",
      "Epoch 11/20\n",
      "60000/60000 [==============================] - 490s 8ms/sample - loss: 0.0071 - val_loss: 0.0072\n",
      "Epoch 12/20\n",
      "60000/60000 [==============================] - 471s 8ms/sample - loss: 0.0070 - val_loss: 0.0071\n",
      "Epoch 13/20\n",
      "60000/60000 [==============================] - 492s 8ms/sample - loss: 0.0069 - val_loss: 0.0071\n",
      "Epoch 14/20\n",
      "60000/60000 [==============================] - 485s 8ms/sample - loss: 0.0069 - val_loss: 0.0069\n",
      "Epoch 15/20\n",
      "60000/60000 [==============================] - 542s 9ms/sample - loss: 0.0068 - val_loss: 0.0069\n",
      "Epoch 16/20\n",
      "60000/60000 [==============================] - 485s 8ms/sample - loss: 0.0067 - val_loss: 0.0069\n",
      "Epoch 17/20\n",
      "60000/60000 [==============================] - 461s 8ms/sample - loss: 0.0067 - val_loss: 0.0068\n",
      "Epoch 18/20\n",
      "60000/60000 [==============================] - 485s 8ms/sample - loss: 0.0066 - val_loss: 0.0068\n",
      "Epoch 19/20\n",
      "60000/60000 [==============================] - 462s 8ms/sample - loss: 0.0066 - val_loss: 0.0068\n",
      "Epoch 20/20\n",
      "60000/60000 [==============================] - 464s 8ms/sample - loss: 0.0065 - val_loss: 0.0068\n"
     ]
    }
   ],
   "source": [
    "# train the convolutional autoencoder\n",
    "H = autoencoder.fit( trainX, trainX, validation_data=(testX, testX),\n",
    "                    epochs=epochs, batch_size=batch_size)"
   ]
  },
  {
   "cell_type": "code",
   "execution_count": 34,
   "metadata": {},
   "outputs": [
    {
     "name": "stdout",
     "output_type": "stream",
     "text": [
      "[INFO] making predictions...\n"
     ]
    }
   ],
   "source": [
    "print(\"[INFO] making predictions...\")\n",
    "decoded = autoencoder.predict(testX)\n",
    "vis = visualize_predictions(decoded, testX)"
   ]
  },
  {
   "cell_type": "code",
   "execution_count": 41,
   "metadata": {},
   "outputs": [
    {
     "data": {
      "text/plain": [
       "<matplotlib.legend.Legend at 0x205eef53908>"
      ]
     },
     "execution_count": 41,
     "metadata": {},
     "output_type": "execute_result"
    },
    {
     "data": {
      "image/png": "[encoded data removed]",
      "text/plain": [
       "<Figure size 432x288 with 1 Axes>"
      ]
     },
     "metadata": {},
     "output_type": "display_data"
    }
   ],
   "source": [
    "# construct a plot that plots and saves the training history\n",
    "import matplotlib.pyplot as plt\n",
    "%matplotlib inline\n",
    "N = np.arange(0, epochs)\n",
    "plt.style.use(\"ggplot\")\n",
    "plt.figure()\n",
    "plt.plot(N, H.history[\"loss\"], label=\"train_loss\")\n",
    "plt.plot(N, H.history[\"val_loss\"], label=\"val_loss\")\n",
    "plt.title(\"Training Loss and Accuracy\")\n",
    "plt.xlabel(\"Epoch #\")\n",
    "plt.ylabel(\"Loss/Accuracy\")\n",
    "plt.legend(loc=\"lower left\")\n"
   ]
  },
  {
   "cell_type": "code",
   "execution_count": 43,
   "metadata": {},
   "outputs": [
    {
     "name": "stdout",
     "output_type": "stream",
     "text": [
      "[INFO] encoding images...\n"
     ]
    }
   ],
   "source": [
    "encoder = Model(inputs=autoencoder.input, outputs=autoencoder.get_layer(\"encoded\").output)\n",
    "print(\"[INFO] encoding images...\")\n",
    "features = encoder.predict(trainX)"
   ]
  },
  {
   "cell_type": "code",
   "execution_count": 44,
   "metadata": {},
   "outputs": [],
   "source": [
    "indexes = list(range(0, trainX.shape[0]))\n",
    "data = {\"indexes\": indexes, \"features\": features}"
   ]
  },
  {
   "cell_type": "code",
   "execution_count": 50,
   "metadata": {},
   "outputs": [],
   "source": [
    "def euclidean(a, b):\n",
    "    # compute and return the euclidean distance between two vectors\n",
    "    return np.linalg.norm(a - b)\n",
    "\n",
    "def perform_search(queryFeatures, index, maxResults=64):\n",
    "    # initialize our list of results\n",
    "    results = []\n",
    "    # loop over our index\n",
    "    for i in range(0, len(index[\"features\"])):\n",
    "        # compute the euclidean distance between our query features\n",
    "        # and the features for the current image in our index, then\n",
    "        # update our results list with a 2-tuple consisting of the\n",
    "        # computed distance and the index of the image\n",
    "        d = euclidean(queryFeatures, index[\"features\"][i])\n",
    "        results.append((d, i))\n",
    "    # sort the results and grab the top ones\n",
    "    results = sorted(results)[:maxResults]\n",
    "    # return the list of results\n",
    "    return results"
   ]
  },
  {
   "cell_type": "code",
   "execution_count": 51,
   "metadata": {},
   "outputs": [],
   "source": [
    "test_features = encoder.predict(testX)"
   ]
  },
  {
   "cell_type": "code",
   "execution_count": 55,
   "metadata": {},
   "outputs": [],
   "source": [
    "# randomly sample a set of testing query image indexes\n",
    "queryIdxs = list(range(0, testX.shape[0]))\n",
    "queryIdxs = np.random.choice(queryIdxs, size=10, replace=False)\n",
    "\n",
    "for i in queryIdxs:\n",
    "    queryFeatures = test_features[i]\n",
    "    results = perform_search(queryFeatures, data, maxResults=225)\n",
    "    images = []\n",
    "    \n",
    "    for (d,j) in results:\n",
    "        image = (trainX[j] * 255).astype(\"uint8\")\n",
    "        image = np.dstack([image] * 3)\n",
    "        images.append(image)\n",
    "        \n",
    "    query = (testX[i] * 255).astype(\"uint8\")\n",
    "    cv2.imshow(\"Query\", query)\n",
    "    \n",
    "    # build a montage from the results and display it\n",
    "    montage = build_montages(images, (28, 28), (15, 15))[0]\n",
    "    cv2.imshow(\"Results\", montage)\n",
    "    cv2.waitKey(0)"
   ]
  },
  {
   "cell_type": "code",
   "execution_count": 54,
   "metadata": {},
   "outputs": [],
   "source": []
  },
  {
   "cell_type": "code",
   "execution_count": null,
   "metadata": {},
   "outputs": [],
   "source": []
  }
 ],
 "metadata": {
  "kernelspec": {
   "display_name": "Python 3",
   "language": "python",
   "name": "python3"
  },
  "language_info": {
   "codemirror_mode": {
    "name": "ipython",
    "version": 3
   },
   "file_extension": ".py",
   "mimetype": "text/x-python",
   "name": "python",
   "nbconvert_exporter": "python",
   "pygments_lexer": "ipython3",
   "version": "3.6.9"
  },
  "toc": {
   "base_numbering": 1,
   "nav_menu": {},
   "number_sections": true,
   "sideBar": true,
   "skip_h1_title": false,
   "title_cell": "Table of Contents",
   "title_sidebar": "Contents",
   "toc_cell": false,
   "toc_position": {},
   "toc_section_display": true,
   "toc_window_display": false
  }
 },
 "nbformat": 4,
 "nbformat_minor": 2
}
